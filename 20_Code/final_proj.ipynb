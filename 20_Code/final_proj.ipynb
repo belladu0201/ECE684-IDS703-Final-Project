{
 "cells": [
  {
   "cell_type": "markdown",
   "metadata": {},
   "source": [
    "# IDS703/ECE684 Natrual Language Processing Final Project FA22: MBTI Classification\n",
    "## Name: Xiaoyu Chen, Beibei Du, Xianchi Zhang\n",
    "## Date: December 19, 2022"
   ]
  },
  {
   "cell_type": "markdown",
   "metadata": {},
   "source": [
    "## Motivation\n",
    "- We are interested in the MBTI personality test because it is trending recently. There are websites showing us people's personaility types and we want to know if that validates in real life to classify people in these 16 types and how people's MBTI type is related to the posts that they have posted online. When we meet new people, we always ask someone's MBTI type on the first day and that's very interesting to see if there's only common patterns among the people with the same MBTI types. Currently, there are a lot of social apps taking MBTI as an option of input of personal information. We did some research and found out that the dating app such as `Coffee Meets Bagel` has an option to put user's MBTI type, which potentially can be a predictor of choosing the other users. Beyond sakes of socialize, it can be useful in finding the right track for personal growth. Beibei has taken a required course in high school called CornerStone and this is a class to help students find their career path. And MYers & Briggs Type Indicator(MBTI) was being adopted in this class. With the wide-spread usage of MBTI personality test, we want to take this as our project to answer our interested research questions in the `Research Question` portion.\n"
   ]
  },
  {
   "cell_type": "markdown",
   "metadata": {},
   "source": [
    "## Introduction\n",
    "- Myers and her mother Briggs developed a system to distingusih people's personalities by 16 types and it's orgianlly based on their subjective data collection.\n",
    "- Additionally, there are a lot of controversies/bias in this personality indicator test. Based on the [1], the creation of this personality exam is based on the common trend or consistent preference appeared in Isabel Myers and her mother Katharine Cook Briggs's(They are the two developers of the MBTI personality test) relatvies and friends, and the sample size is only about 20. Thus it can't be statistically significant to design a test in this way. Larger samples are taken later for the validity of the design of the test. It is not heaviily relied on theories in psychology.\n",
    "- For those who haven't taken the test before and interested in it, here is the link [2] https://www.16personalities.com/free-personality-test."
   ]
  },
  {
   "cell_type": "markdown",
   "metadata": {},
   "source": [
    "## Research Question\n",
    "- We are trying to use Natural Language Processing models to answer the following questions."
   ]
  },
  {
   "cell_type": "markdown",
   "metadata": {},
   "source": [
    "1. Can we predict MBTI type from posts that they have sent online?\n",
    "2. Do people with different MBTI types use different words in their posts?\n",
    "3. Is there a word that distingusih each MBTI type from the others?\n",
    "4. Do Introverted and Extroverted types use different words in their posts?\n",
    "5. Do Intuitive and Sensing types use different words in their posts?\n",
    "6. Do Thinking and Feeling types use different words in their posts?\n",
    "7. Do Judging and Perceiving types use different words in their posts?"
   ]
  },
  {
   "cell_type": "markdown",
   "metadata": {},
   "source": [
    "## Import Packages"
   ]
  },
  {
   "cell_type": "code",
   "execution_count": 3,
   "metadata": {},
   "outputs": [],
   "source": [
    "import pandas as pd\n",
    "import numpy as np\n",
    "import matplotlib.pyplot as plt\n",
    "import seaborn as sns\n",
    "import altair as alt\n",
    "\n",
    "# tfidf\n",
    "from sklearn.feature_extraction.text import TfidfVectorizer\n",
    "from sklearn.model_selection import train_test_split\n",
    "\n",
    "# bag of words\n",
    "# https://www.mygreatlearning.com/blog/bag-of-words/\n",
    "\n",
    "# ngrams\n",
    "# https://pypi.org/project/ngram/\n",
    "\n",
    "# naive bayes\n",
    "from sklearn.naive_bayes import MultinomialNB\n"
   ]
  },
  {
   "cell_type": "markdown",
   "metadata": {},
   "source": [
    "## Data Loading, Data Exploration/Cleaning and EDA"
   ]
  },
  {
   "cell_type": "code",
   "execution_count": 4,
   "metadata": {},
   "outputs": [
    {
     "data": {
      "text/html": [
       "<div>\n",
       "<style scoped>\n",
       "    .dataframe tbody tr th:only-of-type {\n",
       "        vertical-align: middle;\n",
       "    }\n",
       "\n",
       "    .dataframe tbody tr th {\n",
       "        vertical-align: top;\n",
       "    }\n",
       "\n",
       "    .dataframe thead th {\n",
       "        text-align: right;\n",
       "    }\n",
       "</style>\n",
       "<table border=\"1\" class=\"dataframe\">\n",
       "  <thead>\n",
       "    <tr style=\"text-align: right;\">\n",
       "      <th></th>\n",
       "      <th>type</th>\n",
       "      <th>posts</th>\n",
       "    </tr>\n",
       "  </thead>\n",
       "  <tbody>\n",
       "    <tr>\n",
       "      <th>0</th>\n",
       "      <td>INFJ</td>\n",
       "      <td>'http://www.youtube.com/watch?v=qsXHcwe3krw|||...</td>\n",
       "    </tr>\n",
       "    <tr>\n",
       "      <th>1</th>\n",
       "      <td>ENTP</td>\n",
       "      <td>'I'm finding the lack of me in these posts ver...</td>\n",
       "    </tr>\n",
       "    <tr>\n",
       "      <th>2</th>\n",
       "      <td>INTP</td>\n",
       "      <td>'Good one  _____   https://www.youtube.com/wat...</td>\n",
       "    </tr>\n",
       "    <tr>\n",
       "      <th>3</th>\n",
       "      <td>INTJ</td>\n",
       "      <td>'Dear INTP,   I enjoyed our conversation the o...</td>\n",
       "    </tr>\n",
       "    <tr>\n",
       "      <th>4</th>\n",
       "      <td>ENTJ</td>\n",
       "      <td>'You're fired.|||That's another silly misconce...</td>\n",
       "    </tr>\n",
       "  </tbody>\n",
       "</table>\n",
       "</div>"
      ],
      "text/plain": [
       "   type                                              posts\n",
       "0  INFJ  'http://www.youtube.com/watch?v=qsXHcwe3krw|||...\n",
       "1  ENTP  'I'm finding the lack of me in these posts ver...\n",
       "2  INTP  'Good one  _____   https://www.youtube.com/wat...\n",
       "3  INTJ  'Dear INTP,   I enjoyed our conversation the o...\n",
       "4  ENTJ  'You're fired.|||That's another silly misconce..."
      ]
     },
     "execution_count": 4,
     "metadata": {},
     "output_type": "execute_result"
    }
   ],
   "source": [
    "mbti = pd.read_csv(\"mbti_1.csv\")\n",
    "mbti.head()\n"
   ]
  },
  {
   "cell_type": "markdown",
   "metadata": {},
   "source": [
    "There are two columns in this dataset and there are 8675 observations. The first column is `type`, which is one of the personality type in the Myers-Briggs Type Indicator (MBTI). The second column is `posts`, which is the text of the posts of the users. The  post is separated by `|` in each row."
   ]
  },
  {
   "cell_type": "code",
   "execution_count": 5,
   "metadata": {},
   "outputs": [
    {
     "data": {
      "text/plain": [
       "(8675, 2)"
      ]
     },
     "execution_count": 5,
     "metadata": {},
     "output_type": "execute_result"
    }
   ],
   "source": [
    "mbti.shape\n"
   ]
  },
  {
   "cell_type": "code",
   "execution_count": 6,
   "metadata": {},
   "outputs": [
    {
     "data": {
      "text/plain": [
       "type     object\n",
       "posts    object\n",
       "dtype: object"
      ]
     },
     "execution_count": 6,
     "metadata": {},
     "output_type": "execute_result"
    }
   ],
   "source": [
    "mbti.dtypes\n"
   ]
  },
  {
   "cell_type": "code",
   "execution_count": 7,
   "metadata": {},
   "outputs": [
    {
     "data": {
      "text/html": [
       "<div>\n",
       "<style scoped>\n",
       "    .dataframe tbody tr th:only-of-type {\n",
       "        vertical-align: middle;\n",
       "    }\n",
       "\n",
       "    .dataframe tbody tr th {\n",
       "        vertical-align: top;\n",
       "    }\n",
       "\n",
       "    .dataframe thead th {\n",
       "        text-align: right;\n",
       "    }\n",
       "</style>\n",
       "<table border=\"1\" class=\"dataframe\">\n",
       "  <thead>\n",
       "    <tr style=\"text-align: right;\">\n",
       "      <th></th>\n",
       "      <th>type</th>\n",
       "      <th>posts</th>\n",
       "    </tr>\n",
       "  </thead>\n",
       "  <tbody>\n",
       "    <tr>\n",
       "      <th>count</th>\n",
       "      <td>8675</td>\n",
       "      <td>8675</td>\n",
       "    </tr>\n",
       "    <tr>\n",
       "      <th>unique</th>\n",
       "      <td>16</td>\n",
       "      <td>8675</td>\n",
       "    </tr>\n",
       "    <tr>\n",
       "      <th>top</th>\n",
       "      <td>INFP</td>\n",
       "      <td>'http://www.youtube.com/watch?v=qsXHcwe3krw|||...</td>\n",
       "    </tr>\n",
       "    <tr>\n",
       "      <th>freq</th>\n",
       "      <td>1832</td>\n",
       "      <td>1</td>\n",
       "    </tr>\n",
       "  </tbody>\n",
       "</table>\n",
       "</div>"
      ],
      "text/plain": [
       "        type                                              posts\n",
       "count   8675                                               8675\n",
       "unique    16                                               8675\n",
       "top     INFP  'http://www.youtube.com/watch?v=qsXHcwe3krw|||...\n",
       "freq    1832                                                  1"
      ]
     },
     "execution_count": 7,
     "metadata": {},
     "output_type": "execute_result"
    }
   ],
   "source": [
    "mbti.describe()\n"
   ]
  },
  {
   "cell_type": "code",
   "execution_count": 8,
   "metadata": {},
   "outputs": [],
   "source": [
    "# We have 8675 rows and 2 columns so that we need to disable max rows in order to run the code in the next block\n",
    "# alt.data_transformers.disable_max_rows()\n"
   ]
  },
  {
   "cell_type": "code",
   "execution_count": 9,
   "metadata": {},
   "outputs": [],
   "source": [
    "# plot the distribution of the 16 personality types\n",
    "# alt.Chart(mbti).mark_bar().encode(\n",
    "#     alt.X('type', title='Personality Type'),\n",
    "#     alt.Y('count()', title='Count')\n",
    "# ).properties(\n",
    "#     title='Distribution of Personality Types'\n",
    "# )\n"
   ]
  },
  {
   "cell_type": "code",
   "execution_count": 10,
   "metadata": {},
   "outputs": [
    {
     "data": {
      "text/plain": [
       "<AxesSubplot:title={'center':'Distribution of Personality Types'}>"
      ]
     },
     "execution_count": 10,
     "metadata": {},
     "output_type": "execute_result"
    },
    {
     "data": {
      "image/png": "[encoded data removed]",
      "text/plain": [
       "<Figure size 1000x1000 with 1 Axes>"
      ]
     },
     "metadata": {},
     "output_type": "display_data"
    }
   ],
   "source": [
    "# sort the distribution of personalities in ascending order and plot the distribution of personalities in a bar chart\n",
    "mbti[\"type\"].value_counts().sort_values(ascending=True).plot(\n",
    "    kind=\"barh\", figsize=(10, 10), title=\"Distribution of Personality Types\"\n",
    ")\n"
   ]
  },
  {
   "cell_type": "code",
   "execution_count": 11,
   "metadata": {},
   "outputs": [],
   "source": [
    "# find out the number of characters in each post\n",
    "mbti[\"posts_length\"] = mbti[\"posts\"].apply(len)\n"
   ]
  },
  {
   "cell_type": "code",
   "execution_count": 12,
   "metadata": {},
   "outputs": [
    {
     "data": {
      "text/html": [
       "<div>\n",
       "<style scoped>\n",
       "    .dataframe tbody tr th:only-of-type {\n",
       "        vertical-align: middle;\n",
       "    }\n",
       "\n",
       "    .dataframe tbody tr th {\n",
       "        vertical-align: top;\n",
       "    }\n",
       "\n",
       "    .dataframe thead th {\n",
       "        text-align: right;\n",
       "    }\n",
       "</style>\n",
       "<table border=\"1\" class=\"dataframe\">\n",
       "  <thead>\n",
       "    <tr style=\"text-align: right;\">\n",
       "      <th></th>\n",
       "      <th>count</th>\n",
       "      <th>mean</th>\n",
       "      <th>std</th>\n",
       "      <th>min</th>\n",
       "      <th>25%</th>\n",
       "      <th>50%</th>\n",
       "      <th>75%</th>\n",
       "      <th>max</th>\n",
       "    </tr>\n",
       "    <tr>\n",
       "      <th>type</th>\n",
       "      <th></th>\n",
       "      <th></th>\n",
       "      <th></th>\n",
       "      <th></th>\n",
       "      <th></th>\n",
       "      <th></th>\n",
       "      <th></th>\n",
       "      <th></th>\n",
       "    </tr>\n",
       "  </thead>\n",
       "  <tbody>\n",
       "    <tr>\n",
       "      <th>ENFJ</th>\n",
       "      <td>190.0</td>\n",
       "      <td>7487.552632</td>\n",
       "      <td>1598.839419</td>\n",
       "      <td>1168.0</td>\n",
       "      <td>6774.25</td>\n",
       "      <td>7833.0</td>\n",
       "      <td>8657.75</td>\n",
       "      <td>10090.0</td>\n",
       "    </tr>\n",
       "    <tr>\n",
       "      <th>ENFP</th>\n",
       "      <td>675.0</td>\n",
       "      <td>7319.644444</td>\n",
       "      <td>1582.620497</td>\n",
       "      <td>194.0</td>\n",
       "      <td>6562.00</td>\n",
       "      <td>7548.0</td>\n",
       "      <td>8460.50</td>\n",
       "      <td>10042.0</td>\n",
       "    </tr>\n",
       "    <tr>\n",
       "      <th>ENTJ</th>\n",
       "      <td>231.0</td>\n",
       "      <td>7223.731602</td>\n",
       "      <td>1498.276235</td>\n",
       "      <td>1989.0</td>\n",
       "      <td>6425.00</td>\n",
       "      <td>7450.0</td>\n",
       "      <td>8303.50</td>\n",
       "      <td>9904.0</td>\n",
       "    </tr>\n",
       "    <tr>\n",
       "      <th>ENTP</th>\n",
       "      <td>685.0</td>\n",
       "      <td>7111.381022</td>\n",
       "      <td>1509.322795</td>\n",
       "      <td>1535.0</td>\n",
       "      <td>6257.00</td>\n",
       "      <td>7378.0</td>\n",
       "      <td>8230.00</td>\n",
       "      <td>10020.0</td>\n",
       "    </tr>\n",
       "    <tr>\n",
       "      <th>ESFJ</th>\n",
       "      <td>42.0</td>\n",
       "      <td>7400.571429</td>\n",
       "      <td>1924.953305</td>\n",
       "      <td>2218.0</td>\n",
       "      <td>6202.50</td>\n",
       "      <td>7625.5</td>\n",
       "      <td>9078.50</td>\n",
       "      <td>10077.0</td>\n",
       "    </tr>\n",
       "    <tr>\n",
       "      <th>ESFP</th>\n",
       "      <td>48.0</td>\n",
       "      <td>6056.687500</td>\n",
       "      <td>2069.628872</td>\n",
       "      <td>1793.0</td>\n",
       "      <td>4336.75</td>\n",
       "      <td>6435.5</td>\n",
       "      <td>7822.50</td>\n",
       "      <td>9188.0</td>\n",
       "    </tr>\n",
       "    <tr>\n",
       "      <th>ESTJ</th>\n",
       "      <td>39.0</td>\n",
       "      <td>7138.666667</td>\n",
       "      <td>1447.123960</td>\n",
       "      <td>4004.0</td>\n",
       "      <td>6130.00</td>\n",
       "      <td>7258.0</td>\n",
       "      <td>8044.50</td>\n",
       "      <td>9855.0</td>\n",
       "    </tr>\n",
       "    <tr>\n",
       "      <th>ESTP</th>\n",
       "      <td>89.0</td>\n",
       "      <td>6808.382022</td>\n",
       "      <td>1620.572244</td>\n",
       "      <td>1818.0</td>\n",
       "      <td>5656.00</td>\n",
       "      <td>7092.0</td>\n",
       "      <td>7953.00</td>\n",
       "      <td>9931.0</td>\n",
       "    </tr>\n",
       "    <tr>\n",
       "      <th>INFJ</th>\n",
       "      <td>1470.0</td>\n",
       "      <td>7507.227891</td>\n",
       "      <td>1528.227698</td>\n",
       "      <td>820.0</td>\n",
       "      <td>6662.25</td>\n",
       "      <td>7816.5</td>\n",
       "      <td>8635.75</td>\n",
       "      <td>10058.0</td>\n",
       "    </tr>\n",
       "    <tr>\n",
       "      <th>INFP</th>\n",
       "      <td>1832.0</td>\n",
       "      <td>7317.981987</td>\n",
       "      <td>1576.136360</td>\n",
       "      <td>57.0</td>\n",
       "      <td>6420.00</td>\n",
       "      <td>7577.0</td>\n",
       "      <td>8474.25</td>\n",
       "      <td>10063.0</td>\n",
       "    </tr>\n",
       "    <tr>\n",
       "      <th>INTJ</th>\n",
       "      <td>1091.0</td>\n",
       "      <td>7125.079743</td>\n",
       "      <td>1670.093138</td>\n",
       "      <td>902.0</td>\n",
       "      <td>6180.50</td>\n",
       "      <td>7414.0</td>\n",
       "      <td>8340.00</td>\n",
       "      <td>9992.0</td>\n",
       "    </tr>\n",
       "    <tr>\n",
       "      <th>INTP</th>\n",
       "      <td>1304.0</td>\n",
       "      <td>7155.328221</td>\n",
       "      <td>1588.948716</td>\n",
       "      <td>733.0</td>\n",
       "      <td>6212.75</td>\n",
       "      <td>7427.0</td>\n",
       "      <td>8379.00</td>\n",
       "      <td>9971.0</td>\n",
       "    </tr>\n",
       "    <tr>\n",
       "      <th>ISFJ</th>\n",
       "      <td>166.0</td>\n",
       "      <td>7265.614458</td>\n",
       "      <td>1775.683543</td>\n",
       "      <td>1768.0</td>\n",
       "      <td>6227.25</td>\n",
       "      <td>7636.5</td>\n",
       "      <td>8617.75</td>\n",
       "      <td>9950.0</td>\n",
       "    </tr>\n",
       "    <tr>\n",
       "      <th>ISFP</th>\n",
       "      <td>271.0</td>\n",
       "      <td>6757.036900</td>\n",
       "      <td>1739.719315</td>\n",
       "      <td>396.0</td>\n",
       "      <td>5643.50</td>\n",
       "      <td>7072.0</td>\n",
       "      <td>8023.00</td>\n",
       "      <td>9564.0</td>\n",
       "    </tr>\n",
       "    <tr>\n",
       "      <th>ISTJ</th>\n",
       "      <td>205.0</td>\n",
       "      <td>7126.448780</td>\n",
       "      <td>1716.568720</td>\n",
       "      <td>1115.0</td>\n",
       "      <td>6226.00</td>\n",
       "      <td>7521.0</td>\n",
       "      <td>8293.00</td>\n",
       "      <td>9831.0</td>\n",
       "    </tr>\n",
       "    <tr>\n",
       "      <th>ISTP</th>\n",
       "      <td>337.0</td>\n",
       "      <td>6913.691395</td>\n",
       "      <td>1646.507115</td>\n",
       "      <td>1001.0</td>\n",
       "      <td>5974.00</td>\n",
       "      <td>7185.0</td>\n",
       "      <td>8143.00</td>\n",
       "      <td>9928.0</td>\n",
       "    </tr>\n",
       "  </tbody>\n",
       "</table>\n",
       "</div>"
      ],
      "text/plain": [
       "       count         mean          std     min      25%     50%      75%  \\\n",
       "type                                                                       \n",
       "ENFJ   190.0  7487.552632  1598.839419  1168.0  6774.25  7833.0  8657.75   \n",
       "ENFP   675.0  7319.644444  1582.620497   194.0  6562.00  7548.0  8460.50   \n",
       "ENTJ   231.0  7223.731602  1498.276235  1989.0  6425.00  7450.0  8303.50   \n",
       "ENTP   685.0  7111.381022  1509.322795  1535.0  6257.00  7378.0  8230.00   \n",
       "ESFJ    42.0  7400.571429  1924.953305  2218.0  6202.50  7625.5  9078.50   \n",
       "ESFP    48.0  6056.687500  2069.628872  1793.0  4336.75  6435.5  7822.50   \n",
       "ESTJ    39.0  7138.666667  1447.123960  4004.0  6130.00  7258.0  8044.50   \n",
       "ESTP    89.0  6808.382022  1620.572244  1818.0  5656.00  7092.0  7953.00   \n",
       "INFJ  1470.0  7507.227891  1528.227698   820.0  6662.25  7816.5  8635.75   \n",
       "INFP  1832.0  7317.981987  1576.136360    57.0  6420.00  7577.0  8474.25   \n",
       "INTJ  1091.0  7125.079743  1670.093138   902.0  6180.50  7414.0  8340.00   \n",
       "INTP  1304.0  7155.328221  1588.948716   733.0  6212.75  7427.0  8379.00   \n",
       "ISFJ   166.0  7265.614458  1775.683543  1768.0  6227.25  7636.5  8617.75   \n",
       "ISFP   271.0  6757.036900  1739.719315   396.0  5643.50  7072.0  8023.00   \n",
       "ISTJ   205.0  7126.448780  1716.568720  1115.0  6226.00  7521.0  8293.00   \n",
       "ISTP   337.0  6913.691395  1646.507115  1001.0  5974.00  7185.0  8143.00   \n",
       "\n",
       "          max  \n",
       "type           \n",
       "ENFJ  10090.0  \n",
       "ENFP  10042.0  \n",
       "ENTJ   9904.0  \n",
       "ENTP  10020.0  \n",
       "ESFJ  10077.0  \n",
       "ESFP   9188.0  \n",
       "ESTJ   9855.0  \n",
       "ESTP   9931.0  \n",
       "INFJ  10058.0  \n",
       "INFP  10063.0  \n",
       "INTJ   9992.0  \n",
       "INTP   9971.0  \n",
       "ISFJ   9950.0  \n",
       "ISFP   9564.0  \n",
       "ISTJ   9831.0  \n",
       "ISTP   9928.0  "
      ]
     },
     "execution_count": 12,
     "metadata": {},
     "output_type": "execute_result"
    }
   ],
   "source": [
    "# mbti['posts_length'].describe()\n",
    "mbti.groupby(\"type\")[\"posts_length\"].describe()\n"
   ]
  },
  {
   "cell_type": "markdown",
   "metadata": {},
   "source": [
    "### We tried to spilt up the four options in to each of the 2 options, which ends up the potential 16 personalities: 2^4 = 16"
   ]
  },
  {
   "cell_type": "code",
   "execution_count": 13,
   "metadata": {},
   "outputs": [],
   "source": [
    "mbti[\"Introverted\"] = mbti[\"type\"].apply(lambda x: 1 if x[0] == \"I\" else 0)\n",
    "mbti[\"Extroverted\"] = mbti[\"type\"].apply(lambda x: 1 if x[0] == \"E\" else 0)\n",
    "mbti[\"Intuitive\"] = mbti[\"type\"].apply(lambda x: 1 if x[1] == \"N\" else 0)\n",
    "mbti[\"Sensing\"] = mbti[\"type\"].apply(lambda x: 1 if x[1] == \"S\" else 0)\n",
    "mbti[\"Feeling\"] = mbti[\"type\"].apply(lambda x: 1 if x[2] == \"F\" else 0)\n",
    "mbti[\"Thinking\"] = mbti[\"type\"].apply(lambda x: 1 if x[2] == \"T\" else 0)\n",
    "mbti[\"Perceiving\"] = mbti[\"type\"].apply(lambda x: 1 if x[3] == \"P\" else 0)\n",
    "mbti[\"Jugding\"] = mbti[\"type\"].apply(lambda x: 1 if x[3] == \"J\" else 0)\n"
   ]
  },
  {
   "cell_type": "markdown",
   "metadata": {},
   "source": [
    "## Data Modeling"
   ]
  },
  {
   "cell_type": "markdown",
   "metadata": {},
   "source": [
    "- The first model that we are going to use here is Naive Bayes and it takes about ~6 seconds to run and the accuracy for this model is very low: 21.32%"
   ]
  },
  {
   "cell_type": "code",
   "execution_count": 14,
   "metadata": {},
   "outputs": [
    {
     "data": {
      "text/plain": [
       "0.2132564841498559"
      ]
     },
     "execution_count": 14,
     "metadata": {},
     "output_type": "execute_result"
    }
   ],
   "source": [
    "# we will use the posts column as the feature and the type column as the target\n",
    "X = mbti[\"posts\"]\n",
    "y = mbti[\"type\"]\n",
    "\n",
    "# split the data into training and testing sets\n",
    "X_train, X_test, y_train, y_test = train_test_split(\n",
    "    X, y, test_size=0.2, random_state=42\n",
    ")\n",
    "\n",
    "# use tfidf to convert the text into a matrix of token counts\n",
    "tfidf = TfidfVectorizer()\n",
    "X_train_tfidf = tfidf.fit_transform(X_train)\n",
    "X_test_tfidf = tfidf.transform(X_test)\n",
    "\n",
    "# use naive bayes to train the model\n",
    "nb = MultinomialNB()\n",
    "nb.fit(X_train_tfidf, y_train)\n",
    "\n",
    "# predict the personality type of the test data\n",
    "y_pred_nb = nb.predict(X_test_tfidf)\n",
    "\n",
    "# check the accuracy of the model\n",
    "from sklearn.metrics import accuracy_score\n",
    "\n",
    "accuracy_score(y_test, y_pred_nb)\n"
   ]
  },
  {
   "cell_type": "markdown",
   "metadata": {},
   "source": [
    "- The following model is using Support Vector Machine Algorithm and it will takes around ~7 min to finish and the accuracy for this model is about 60.98% "
   ]
  },
  {
   "cell_type": "code",
   "execution_count": 15,
   "metadata": {},
   "outputs": [
    {
     "data": {
      "text/plain": [
       "0.6097982708933718"
      ]
     },
     "execution_count": 15,
     "metadata": {},
     "output_type": "execute_result"
    }
   ],
   "source": [
    "# use svm to predict the personality type of a person based on the text of their posts using tfidf\n",
    "\n",
    "# use svm to train the model\n",
    "from sklearn.svm import SVC\n",
    "\n",
    "svm = SVC()\n",
    "svm.fit(X_train_tfidf, y_train)\n",
    "\n",
    "# predict the personality type of the test data\n",
    "y_pred_svm = svm.predict(X_test_tfidf)\n",
    "\n",
    "# check the accuracy of the model\n",
    "accuracy_score(y_test, y_pred_svm)\n"
   ]
  },
  {
   "cell_type": "markdown",
   "metadata": {},
   "source": [
    "- The third model is MLP Classifier and it takes about ~4 minutes to run and the accuracy is about 60.46%  "
   ]
  },
  {
   "cell_type": "code",
   "execution_count": 16,
   "metadata": {},
   "outputs": [
    {
     "data": {
      "text/plain": [
       "0.6034582132564842"
      ]
     },
     "execution_count": 16,
     "metadata": {},
     "output_type": "execute_result"
    }
   ],
   "source": [
    "# use neural network to train the model\n",
    "from sklearn.neural_network import MLPClassifier\n",
    "\n",
    "nn = MLPClassifier()\n",
    "nn.fit(X_train_tfidf, y_train)\n",
    "\n",
    "# predict the personality type of the test data\n",
    "y_pred_nn = nn.predict(X_test_tfidf)\n",
    "\n",
    "# check the accuracy of the model\n",
    "accuracy_score(y_test, y_pred_nn)\n"
   ]
  },
  {
   "cell_type": "code",
   "execution_count": 17,
   "metadata": {},
   "outputs": [
    {
     "data": {
      "text/html": [
       "<style>#sk-container-id-1 {color: black;background-color: white;}#sk-container-id-1 pre{padding: 0;}#sk-container-id-1 div.sk-toggleable {background-color: white;}#sk-container-id-1 label.sk-toggleable__label {cursor: pointer;display: block;width: 100%;margin-bottom: 0;padding: 0.3em;box-sizing: border-box;text-align: center;}#sk-container-id-1 label.sk-toggleable__label-arrow:before {content: \"▸\";float: left;margin-right: 0.25em;color: #696969;}#sk-container-id-1 label.sk-toggleable__label-arrow:hover:before {color: black;}#sk-container-id-1 div.sk-estimator:hover label.sk-toggleable__label-arrow:before {color: black;}#sk-container-id-1 div.sk-toggleable__content {max-height: 0;max-width: 0;overflow: hidden;text-align: left;background-color: #f0f8ff;}#sk-container-id-1 div.sk-toggleable__content pre {margin: 0.2em;color: black;border-radius: 0.25em;background-color: #f0f8ff;}#sk-container-id-1 input.sk-toggleable__control:checked~div.sk-toggleable__content {max-height: 200px;max-width: 100%;overflow: auto;}#sk-container-id-1 input.sk-toggleable__control:checked~label.sk-toggleable__label-arrow:before {content: \"▾\";}#sk-container-id-1 div.sk-estimator input.sk-toggleable__control:checked~label.sk-toggleable__label {background-color: #d4ebff;}#sk-container-id-1 div.sk-label input.sk-toggleable__control:checked~label.sk-toggleable__label {background-color: #d4ebff;}#sk-container-id-1 input.sk-hidden--visually {border: 0;clip: rect(1px 1px 1px 1px);clip: rect(1px, 1px, 1px, 1px);height: 1px;margin: -1px;overflow: hidden;padding: 0;position: absolute;width: 1px;}#sk-container-id-1 div.sk-estimator {font-family: monospace;background-color: #f0f8ff;border: 1px dotted black;border-radius: 0.25em;box-sizing: border-box;margin-bottom: 0.5em;}#sk-container-id-1 div.sk-estimator:hover {background-color: #d4ebff;}#sk-container-id-1 div.sk-parallel-item::after {content: \"\";width: 100%;border-bottom: 1px solid gray;flex-grow: 1;}#sk-container-id-1 div.sk-label:hover label.sk-toggleable__label {background-color: #d4ebff;}#sk-container-id-1 div.sk-serial::before {content: \"\";position: absolute;border-left: 1px solid gray;box-sizing: border-box;top: 0;bottom: 0;left: 50%;z-index: 0;}#sk-container-id-1 div.sk-serial {display: flex;flex-direction: column;align-items: center;background-color: white;padding-right: 0.2em;padding-left: 0.2em;position: relative;}#sk-container-id-1 div.sk-item {position: relative;z-index: 1;}#sk-container-id-1 div.sk-parallel {display: flex;align-items: stretch;justify-content: center;background-color: white;position: relative;}#sk-container-id-1 div.sk-item::before, #sk-container-id-1 div.sk-parallel-item::before {content: \"\";position: absolute;border-left: 1px solid gray;box-sizing: border-box;top: 0;bottom: 0;left: 50%;z-index: -1;}#sk-container-id-1 div.sk-parallel-item {display: flex;flex-direction: column;z-index: 1;position: relative;background-color: white;}#sk-container-id-1 div.sk-parallel-item:first-child::after {align-self: flex-end;width: 50%;}#sk-container-id-1 div.sk-parallel-item:last-child::after {align-self: flex-start;width: 50%;}#sk-container-id-1 div.sk-parallel-item:only-child::after {width: 0;}#sk-container-id-1 div.sk-dashed-wrapped {border: 1px dashed gray;margin: 0 0.4em 0.5em 0.4em;box-sizing: border-box;padding-bottom: 0.4em;background-color: white;}#sk-container-id-1 div.sk-label label {font-family: monospace;font-weight: bold;display: inline-block;line-height: 1.2em;}#sk-container-id-1 div.sk-label-container {text-align: center;}#sk-container-id-1 div.sk-container {/* jupyter's `normalize.less` sets `[hidden] { display: none; }` but bootstrap.min.css set `[hidden] { display: none !important; }` so we also need the `!important` here to be able to override the default hidden behavior on the sphinx rendered scikit-learn.org. See: https://github.com/scikit-learn/scikit-learn/issues/21755 */display: inline-block !important;position: relative;}#sk-container-id-1 div.sk-text-repr-fallback {display: none;}</style><div id=\"sk-container-id-1\" class=\"sk-top-container\"><div class=\"sk-text-repr-fallback\"><pre>MultinomialNB()</pre><b>In a Jupyter environment, please rerun this cell to show the HTML representation or trust the notebook. <br />On GitHub, the HTML representation is unable to render, please try loading this page with nbviewer.org.</b></div><div class=\"sk-container\" hidden><div class=\"sk-item\"><div class=\"sk-estimator sk-toggleable\"><input class=\"sk-toggleable__control sk-hidden--visually\" id=\"sk-estimator-id-1\" type=\"checkbox\" checked><label for=\"sk-estimator-id-1\" class=\"sk-toggleable__label sk-toggleable__label-arrow\">MultinomialNB</label><div class=\"sk-toggleable__content\"><pre>MultinomialNB()</pre></div></div></div></div></div>"
      ],
      "text/plain": [
       "MultinomialNB()"
      ]
     },
     "execution_count": 17,
     "metadata": {},
     "output_type": "execute_result"
    }
   ],
   "source": [
    "# use pickle to save the model and this is not working for now\n",
    "import pickle\n",
    "\n",
    "pickle.dump(nb, open(\"nb_1.sav\", \"wb\"))\n",
    "pickle.dump(nn, open(\"nn_2.sav\", \"wb\"))\n",
    "\n",
    "# load the model\n",
    "nb_1 = pickle.load(open(\"nb_1.sav\", \"rb\"))\n",
    "nn_2 = pickle.load(open(\"nn_2.sav\", \"rb\"))\n",
    "\n",
    "nb_1\n"
   ]
  },
  {
   "cell_type": "code",
   "execution_count": 18,
   "metadata": {},
   "outputs": [
    {
     "data": {
      "text/html": [
       "<div>\n",
       "<style scoped>\n",
       "    .dataframe tbody tr th:only-of-type {\n",
       "        vertical-align: middle;\n",
       "    }\n",
       "\n",
       "    .dataframe tbody tr th {\n",
       "        vertical-align: top;\n",
       "    }\n",
       "\n",
       "    .dataframe thead th {\n",
       "        text-align: right;\n",
       "    }\n",
       "</style>\n",
       "<table border=\"1\" class=\"dataframe\">\n",
       "  <thead>\n",
       "    <tr style=\"text-align: right;\">\n",
       "      <th></th>\n",
       "      <th>Actual</th>\n",
       "      <th>Predicted</th>\n",
       "    </tr>\n",
       "  </thead>\n",
       "  <tbody>\n",
       "    <tr>\n",
       "      <th>2802</th>\n",
       "      <td>INTP</td>\n",
       "      <td>INFP</td>\n",
       "    </tr>\n",
       "    <tr>\n",
       "      <th>2166</th>\n",
       "      <td>INTJ</td>\n",
       "      <td>INFP</td>\n",
       "    </tr>\n",
       "    <tr>\n",
       "      <th>1919</th>\n",
       "      <td>INTP</td>\n",
       "      <td>INFP</td>\n",
       "    </tr>\n",
       "    <tr>\n",
       "      <th>360</th>\n",
       "      <td>ENFP</td>\n",
       "      <td>INFP</td>\n",
       "    </tr>\n",
       "    <tr>\n",
       "      <th>1115</th>\n",
       "      <td>ENTJ</td>\n",
       "      <td>INFP</td>\n",
       "    </tr>\n",
       "    <tr>\n",
       "      <th>...</th>\n",
       "      <td>...</td>\n",
       "      <td>...</td>\n",
       "    </tr>\n",
       "    <tr>\n",
       "      <th>7023</th>\n",
       "      <td>ISFJ</td>\n",
       "      <td>INFP</td>\n",
       "    </tr>\n",
       "    <tr>\n",
       "      <th>6696</th>\n",
       "      <td>INTP</td>\n",
       "      <td>INFP</td>\n",
       "    </tr>\n",
       "    <tr>\n",
       "      <th>6746</th>\n",
       "      <td>INFJ</td>\n",
       "      <td>INFP</td>\n",
       "    </tr>\n",
       "    <tr>\n",
       "      <th>7966</th>\n",
       "      <td>ISTJ</td>\n",
       "      <td>INFP</td>\n",
       "    </tr>\n",
       "    <tr>\n",
       "      <th>6515</th>\n",
       "      <td>INTP</td>\n",
       "      <td>INFP</td>\n",
       "    </tr>\n",
       "  </tbody>\n",
       "</table>\n",
       "<p>1735 rows × 2 columns</p>\n",
       "</div>"
      ],
      "text/plain": [
       "     Actual Predicted\n",
       "2802   INTP      INFP\n",
       "2166   INTJ      INFP\n",
       "1919   INTP      INFP\n",
       "360    ENFP      INFP\n",
       "1115   ENTJ      INFP\n",
       "...     ...       ...\n",
       "7023   ISFJ      INFP\n",
       "6696   INTP      INFP\n",
       "6746   INFJ      INFP\n",
       "7966   ISTJ      INFP\n",
       "6515   INTP      INFP\n",
       "\n",
       "[1735 rows x 2 columns]"
      ]
     },
     "execution_count": 18,
     "metadata": {},
     "output_type": "execute_result"
    }
   ],
   "source": [
    "# store the results in a dataframe\n",
    "results = pd.DataFrame({\"Actual\": y_test, \"Predicted\": y_pred_nb})\n",
    "results\n"
   ]
  },
  {
   "cell_type": "code",
   "execution_count": 19,
   "metadata": {},
   "outputs": [],
   "source": [
    "# pip install tensorflow\n"
   ]
  },
  {
   "cell_type": "code",
   "execution_count": 20,
   "metadata": {},
   "outputs": [],
   "source": [
    "# pip install torch\n",
    "\n",
    "# use pytoch to train the model\n",
    "import torch\n",
    "import torch.nn as nn\n",
    "import torch.nn.functional as F\n",
    "import torch.optim as optim\n",
    "from torch.utils.data import Dataset, DataLoader\n",
    "from sklearn.metrics import classification_report, confusion_matrix\n"
   ]
  },
  {
   "cell_type": "code",
   "execution_count": 22,
   "metadata": {},
   "outputs": [
    {
     "name": "stdout",
     "output_type": "stream",
     "text": [
      "[[  7   1   0   0   0   0   0   0  12  17   3   0   0   0   1   0]\n",
      " [  0  76   0   3   0   0   0   0  10  25   4   6   0   0   0   1]\n",
      " [  2   1  16   5   0   0   0   0   5   2  10   3   0   0   0   0]\n",
      " [  0  11   0  68   0   0   0   0  13  13  13  16   0   1   0   0]\n",
      " [  0   1   0   1   1   0   0   0   0   1   1   1   0   0   1   0]\n",
      " [  0   3   0   2   0   0   0   0   0   2   0   0   0   1   0   0]\n",
      " [  0   0   1   0   0   0   0   0   1   2   2   1   0   0   0   0]\n",
      " [  0   1   0   1   0   0   0   2   1   2   0   4   0   0   0   4]\n",
      " [  0   4   0   8   0   0   0   0 191  49  21  15   0   0   0   0]\n",
      " [  3   9   0   5   0   0   0   0  33 289  14  12   0   3   1   1]\n",
      " [  0   1   2   1   0   0   0   0  20  17 128  24   0   0   0   0]\n",
      " [  0   5   0   9   0   0   0   0  18  31  19 206   0   2   0   3]\n",
      " [  0   4   0   0   0   0   0   0  11  14   1   2  13   0   0   0]\n",
      " [  0   3   0   2   0   0   0   0   2  26   4   3   0  12   0   1]\n",
      " [  1   1   0   1   0   0   0   0   5  10  11   3   0   1   9   2]\n",
      " [  0   0   0   2   0   0   0   0   8   7   8  12   0   1   0  29]]\n",
      "              precision    recall  f1-score   support\n",
      "\n",
      "        ENFJ       0.54      0.17      0.26        41\n",
      "        ENFP       0.63      0.61      0.62       125\n",
      "        ENTJ       0.84      0.36      0.51        44\n",
      "        ENTP       0.63      0.50      0.56       135\n",
      "        ESFJ       1.00      0.14      0.25         7\n",
      "        ESFP       0.00      0.00      0.00         8\n",
      "        ESTJ       0.00      0.00      0.00         7\n",
      "        ESTP       1.00      0.13      0.24        15\n",
      "        INFJ       0.58      0.66      0.62       288\n",
      "        INFP       0.57      0.78      0.66       370\n",
      "        INTJ       0.54      0.66      0.59       193\n",
      "        INTP       0.67      0.70      0.69       293\n",
      "        ISFJ       1.00      0.29      0.45        45\n",
      "        ISFP       0.57      0.23      0.32        53\n",
      "        ISTJ       0.75      0.20      0.32        44\n",
      "        ISTP       0.71      0.43      0.54        67\n",
      "\n",
      "    accuracy                           0.60      1735\n",
      "   macro avg       0.63      0.37      0.41      1735\n",
      "weighted avg       0.62      0.60      0.59      1735\n",
      "\n"
     ]
    },
    {
     "name": "stderr",
     "output_type": "stream",
     "text": [
      "/opt/miniconda3/lib/python3.10/site-packages/sklearn/metrics/_classification.py:1334: UndefinedMetricWarning: Precision and F-score are ill-defined and being set to 0.0 in labels with no predicted samples. Use `zero_division` parameter to control this behavior.\n",
      "  _warn_prf(average, modifier, msg_start, len(result))\n",
      "/opt/miniconda3/lib/python3.10/site-packages/sklearn/metrics/_classification.py:1334: UndefinedMetricWarning: Precision and F-score are ill-defined and being set to 0.0 in labels with no predicted samples. Use `zero_division` parameter to control this behavior.\n",
      "  _warn_prf(average, modifier, msg_start, len(result))\n",
      "/opt/miniconda3/lib/python3.10/site-packages/sklearn/metrics/_classification.py:1334: UndefinedMetricWarning: Precision and F-score are ill-defined and being set to 0.0 in labels with no predicted samples. Use `zero_division` parameter to control this behavior.\n",
      "  _warn_prf(average, modifier, msg_start, len(result))\n"
     ]
    }
   ],
   "source": [
    "print(confusion_matrix(y_test, y_pred_nn))\n",
    "print(classification_report(y_test, y_pred_nn))\n"
   ]
  },
  {
   "cell_type": "code",
   "execution_count": 21,
   "metadata": {},
   "outputs": [],
   "source": [
    "# # create a class for the dataset\n",
    "# class MBTIDataset(Dataset):\n",
    "#     def __init__(self, X, y):\n",
    "#         self.X = X\n",
    "#         self.y = y\n",
    "#         self.tfidf = TfidfVectorizer()\n",
    "#         self.X = tensor(self.tfidf.fit_transform(self.X))\n",
    "#         self.y = tensor(self.y.values)\n",
    "\n",
    "#     def __len__(self):\n",
    "#         return self.X.shape[0]\n",
    "\n",
    "#     def __getitem__(self, idx):\n",
    "#         return self.X[idx], self.y[idx]\n",
    "\n",
    "# # create a class for the neural network\n",
    "# class MBTINet(nn.Module):\n",
    "#     def __init__(self):\n",
    "#         super(MBTINet, self).__init__()\n",
    "#         self.fc1 = nn.Linear(20000, 1000)\n",
    "#         self.fc2 = nn.Linear(1000, 16)\n",
    "\n",
    "#     def forward(self, x):\n",
    "#         x = F.relu(self.fc1(x))\n",
    "#         x = self.fc2(x)\n",
    "#         return x\n",
    "\n",
    "# # create a function to train the model\n",
    "# def train(model, train_loader, optimizer, criterion, epochs):\n",
    "#     model.train()\n",
    "#     for epoch in range(epochs):\n",
    "#         for batch_idx, (data, target) in enumerate(train_loader):\n",
    "#             optimizer.zero_grad()\n",
    "#             output = model(data)\n",
    "#             loss = criterion(output, target)\n",
    "#             loss.backward()\n",
    "#             optimizer.step()\n",
    "\n",
    "# # create a function to test the model\n",
    "# def test(model, test_loader, criterion):\n",
    "#     model.eval()\n",
    "#     test_loss = 0\n",
    "#     correct = 0\n",
    "#     with torch.no_grad():\n",
    "#         for data, target in test_loader:\n",
    "#             output = model(data)\n",
    "#             test_loss += criterion(output, target).item()\n",
    "#             pred = output.argmax(dim=1, keepdim=True)\n",
    "#             correct += pred.eq(target.view_as(pred)).sum().item()\n",
    "\n",
    "#     test_loss /= len(test_loader.dataset)\n",
    "\n",
    "#     print('Test set: Average loss: {:.4f}, Accuracy: {}/{} ({:.0f}%)'.format(test_loss, correct, len(test_loader.dataset), 100. * correct / len(test_loader.dataset)))\n",
    "\n",
    "# # create a function to predict the personality type of a person based on the text of their posts\n",
    "# def predict(model, test_loader):\n",
    "#     model.eval()\n",
    "#     with torch.no_grad():\n",
    "#         for data, target in test_loader:\n",
    "#             output = model(data)\n",
    "#             pred = output.argmax(dim=1, keepdim=True)\n",
    "#             return pred\n",
    "\n",
    "# # create a dataset for the training data\n",
    "# train_dataset = MBTIDataset(X_train, y_train)\n",
    "\n",
    "# # create a dataset for the testing data\n",
    "# test_dataset = MBTIDataset(X_test, y_test)\n",
    "\n",
    "\n",
    "# train_loader = DataLoader(train_dataset, batch_size=64, shuffle=True)\n",
    "# test_loader = DataLoader(test_dataset, batch_size=64, shuffle=True)\n",
    "# model = MBTINet()\n",
    "# criterion = nn.CrossEntropyLoss()\n",
    "# optimizer = optim.Adam(model.parameters(), lr=0.001)\n",
    "# train(model, train_loader, optimizer, criterion, 10)\n",
    "# test(model, test_loader, criterion)\n",
    "# predict(model, test_loader)\n"
   ]
  },
  {
   "cell_type": "markdown",
   "metadata": {},
   "source": [
    "## Results"
   ]
  },
  {
   "cell_type": "markdown",
   "metadata": {},
   "source": [
    "## Conclusion"
   ]
  },
  {
   "cell_type": "markdown",
   "metadata": {},
   "source": [
    "## Reference"
   ]
  },
  {
   "cell_type": "markdown",
   "metadata": {},
   "source": [
    "# put link into a markdown cell\n",
    "[1] https://www.myersbriggs.org/my-mbti-personality-type/mbti-basics/original-research.htm\n",
    "\n",
    "[2] https://www.16personalities.com/free-personality-test"
   ]
  }
 ],
 "metadata": {
  "kernelspec": {
   "display_name": "Python 3.10.6 ('base')",
   "language": "python",
   "name": "python3"
  },
  "language_info": {
   "codemirror_mode": {
    "name": "ipython",
    "version": 3
   },
   "file_extension": ".py",
   "mimetype": "text/x-python",
   "name": "python",
   "nbconvert_exporter": "python",
   "pygments_lexer": "ipython3",
   "version": "3.10.6"
  },
  "orig_nbformat": 4,
  "vscode": {
   "interpreter": {
    "hash": "3d597f4c481aa0f25dceb95d2a0067e73c0966dcbd003d741d821a7208527ecf"
   }
  }
 },
 "nbformat": 4,
 "nbformat_minor": 2
}
