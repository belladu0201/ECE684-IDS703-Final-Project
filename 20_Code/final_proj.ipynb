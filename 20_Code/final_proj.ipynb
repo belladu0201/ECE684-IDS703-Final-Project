{
 "cells": [
  {
   "cell_type": "markdown",
   "metadata": {},
   "source": [
    "# IDS703/ECE684 Natrual Language Processing Final Project FA22: MBTI Classification\n",
    "## Name: Xiaoyu Chen, Beibei Du, Xianchi Zhang\n",
    "## Date: December 19, 2022"
   ]
  },
  {
   "cell_type": "markdown",
   "metadata": {},
   "source": [
    "## Motivation\n",
    "- We are interested in the MBTI personality test because it is trending recently. There are websites showing us people's personaility types and we want to know if that validates in real life to classify people in these 16 types and how people's MBTI type is related to the posts that they have posted online. When we meet new people, we always ask someone's MBTI type on the first day and that's very interesting to see if there's only common patterns among the people with the same MBTI types. Currently, there are a lot of social apps taking MBTI as an option of input of personal information. We did some research and found out that the dating app such as `Coffee Meets Bagel` has an option to put user's MBTI type, which potentially can be a predictor of choosing the other users. Beyond sakes of socialize, it can be useful in finding the right track for personal growth. Beibei has taken a required course in high school called CornerStone and this is a class to help students find their career path. And MYers & Briggs Type Indicator(MBTI) was being adopted in this class. With the wide-spread usage of MBTI personality test, we want to take this as our project to answer our interested research questions in the `Research Question` portion.\n"
   ]
  },
  {
   "cell_type": "markdown",
   "metadata": {},
   "source": [
    "## Introduction\n",
    "- Myers and her mother Briggs developed a system to distingusih people's personalities by 16 types and it's orgianlly based on their subjective data collection.\n",
    "- Additionally, there are a lot of controversies/bias in this personality indicator test. Based on the [1], the creation of this personality exam is based on the common trend or consistent preference appeared in Isabel Myers and her mother Katharine Cook Briggs's(They are the two developers of the MBTI personality test) relatvies and friends, and the sample size is only about 20. Thus it can't be statistically significant to design a test in this way. Larger samples are taken later for the validity of the design of the test. It is not heaviily relied on theories in psychology.\n",
    "- For those who haven't taken the test before and interested in it, here is the link [2] https://www.16personalities.com/free-personality-test."
   ]
  },
  {
   "cell_type": "markdown",
   "metadata": {},
   "source": [
    "## Research Question\n",
    "- We are trying to use Natural Language Processing models to answer the following questions."
   ]
  },
  {
   "cell_type": "markdown",
   "metadata": {},
   "source": [
    "1. Can we predict MBTI type from posts that they have sent online?\n",
    "2. Do people with different MBTI types use different words in their posts?\n",
    "3. Is there a word that distingusih each MBTI type from the others?\n",
    "4. Do Introverted and Extroverted types use different words in their posts?\n",
    "5. Do Intuitive and Sensing types use different words in their posts?\n",
    "6. Do Thinking and Feeling types use different words in their posts?\n",
    "7. Do Judging and Perceiving types use different words in their posts?"
   ]
  },
  {
   "cell_type": "markdown",
   "metadata": {},
   "source": [
    "## Import Packages"
   ]
  },
  {
   "cell_type": "code",
   "execution_count": null,
   "metadata": {},
   "outputs": [],
   "source": [
    "import pandas as pd\n",
    "import numpy as np\n",
    "import matplotlib.pyplot as plt\n",
    "import seaborn as sns\n",
    "import altair as alt\n",
    "\n",
    "# tfidf\n",
    "from sklearn.feature_extraction.text import TfidfVectorizer\n",
    "from sklearn.model_selection import train_test_split\n",
    "# bag of words  \n",
    "# https://www.mygreatlearning.com/blog/bag-of-words/\n",
    "\n",
    "# ngrams\n",
    "# https://pypi.org/project/ngram/\n",
    "\n",
    "# naive bayes\n",
    "from sklearn.naive_bayes import MultinomialNB\n",
    "\n"
   ]
  },
  {
   "cell_type": "markdown",
   "metadata": {},
   "source": [
    "## Data Loading, Data Exploration/Cleaning and EDA"
   ]
  },
  {
   "cell_type": "code",
   "execution_count": null,
   "metadata": {},
   "outputs": [],
   "source": [
    "mbti = pd.read_csv('mbti_1.csv')\n",
    "mbti.head()"
   ]
  },
  {
   "cell_type": "markdown",
   "metadata": {},
   "source": [
    "There are two columns in this dataset and there are 8675 observations. The first column is `type`, which is one of the personality type in the Myers-Briggs Type Indicator (MBTI). The second column is `posts`, which is the text of the posts of the users. The  post is separated by `|` in each row."
   ]
  },
  {
   "cell_type": "code",
   "execution_count": null,
   "metadata": {},
   "outputs": [],
   "source": [
    "mbti.shape"
   ]
  },
  {
   "cell_type": "code",
   "execution_count": null,
   "metadata": {},
   "outputs": [],
   "source": [
    "mbti.dtypes"
   ]
  },
  {
   "cell_type": "code",
   "execution_count": null,
   "metadata": {},
   "outputs": [],
   "source": [
    "mbti.describe()"
   ]
  },
  {
   "cell_type": "code",
   "execution_count": null,
   "metadata": {},
   "outputs": [],
   "source": [
    "# We have 8675 rows and 2 columns so that we need to disable max rows in order to run the code in the next block\n",
    "# alt.data_transformers.disable_max_rows()"
   ]
  },
  {
   "cell_type": "code",
   "execution_count": null,
   "metadata": {},
   "outputs": [],
   "source": [
    "# plot the distribution of the 16 personality types\n",
    "# alt.Chart(mbti).mark_bar().encode(\n",
    "#     alt.X('type', title='Personality Type'),\n",
    "#     alt.Y('count()', title='Count')\n",
    "# ).properties(\n",
    "#     title='Distribution of Personality Types'\n",
    "# )"
   ]
  },
  {
   "cell_type": "code",
   "execution_count": null,
   "metadata": {},
   "outputs": [],
   "source": [
    "# sort the distribution of personalities in ascending order and plot the distribution of personalities in a bar chart\n",
    "mbti['type'].value_counts().sort_values(ascending=True).plot(kind='barh', figsize=(10, 10), title='Distribution of Personality Types')"
   ]
  },
  {
   "cell_type": "code",
   "execution_count": null,
   "metadata": {},
   "outputs": [],
   "source": [
    "# find out the number of characters in each post\n",
    "mbti['posts_length'] = mbti['posts'].apply(len)"
   ]
  },
  {
   "cell_type": "code",
   "execution_count": null,
   "metadata": {},
   "outputs": [],
   "source": [
    "# mbti['posts_length'].describe()\n",
    "mbti.groupby('type')['posts_length'].describe()"
   ]
  },
  {
   "cell_type": "markdown",
   "metadata": {},
   "source": [
    "### We tried to spilt up the four options in to each of the 2 options, which ends up the potential 16 personalities: 2^4 = 16"
   ]
  },
  {
   "cell_type": "code",
   "execution_count": null,
   "metadata": {},
   "outputs": [],
   "source": [
    "mbti['Introverted'] = mbti['type'].apply(lambda x: 1 if x[0] == 'I' else 0)\n",
    "mbti['Extroverted'] = mbti['type'].apply(lambda x: 1 if x[0] == 'E' else 0)\n",
    "mbti['Intuitive'] = mbti['type'].apply(lambda x: 1 if x[1] == 'N' else 0)\n",
    "mbti['Sensing'] = mbti['type'].apply(lambda x: 1 if x[1] == 'S' else 0)\n",
    "mbti['Feeling'] = mbti['type'].apply(lambda x: 1 if x[2] == 'F' else 0)\n",
    "mbti['Thinking'] = mbti['type'].apply(lambda x: 1 if x[2] == 'T' else 0)\n",
    "mbti['Perceiving'] = mbti['type'].apply(lambda x: 1 if x[3] == 'P' else 0)\n",
    "mbti['Jugding'] = mbti['type'].apply(lambda x: 1 if x[3] == 'J' else 0)\n"
   ]
  },
  {
   "cell_type": "markdown",
   "metadata": {},
   "source": [
    "## Data Modeling"
   ]
  },
  {
   "cell_type": "markdown",
   "metadata": {},
   "source": [
    "- The first model that we are going to use here is Naive Bayes and it takes about ~6 seconds to run and the accuracy for this model is very low: 21.32%"
   ]
  },
  {
   "cell_type": "code",
   "execution_count": null,
   "metadata": {},
   "outputs": [],
   "source": [
    "# we will use the posts column as the feature and the type column as the target\n",
    "X = mbti['posts']\n",
    "y = mbti['type']\n",
    "\n",
    "# split the data into training and testing sets\n",
    "X_train, X_test, y_train, y_test = train_test_split(X, y, test_size=0.2, random_state=42)\n",
    "\n",
    "# use tfidf to convert the text into a matrix of token counts\n",
    "tfidf = TfidfVectorizer()\n",
    "X_train_tfidf = tfidf.fit_transform(X_train)\n",
    "X_test_tfidf = tfidf.transform(X_test)\n",
    "\n",
    "# use naive bayes to train the model\n",
    "nb = MultinomialNB()\n",
    "nb.fit(X_train_tfidf, y_train)\n",
    "\n",
    "# predict the personality type of the test data\n",
    "y_pred_nb = nb.predict(X_test_tfidf)\n",
    "\n",
    "# check the accuracy of the model\n",
    "from sklearn.metrics import accuracy_score\n",
    "accuracy_score(y_test, y_pred_nb)"
   ]
  },
  {
   "cell_type": "markdown",
   "metadata": {},
   "source": [
    "- The following model is using Support Vector Machine Algorithm and it will takes around ~7 min to finish and the accuracy for this model is about 60.98% "
   ]
  },
  {
   "cell_type": "code",
   "execution_count": null,
   "metadata": {},
   "outputs": [],
   "source": [
    "# use svm to predict the personality type of a person based on the text of their posts using tfidf\n",
    "\n",
    "# use svm to train the model\n",
    "from sklearn.svm import SVC\n",
    "svm = SVC()\n",
    "svm.fit(X_train_tfidf, y_train)\n",
    "\n",
    "# predict the personality type of the test data\n",
    "y_pred_svm = svm.predict(X_test_tfidf)\n",
    "\n",
    "# check the accuracy of the model\n",
    "accuracy_score(y_test, y_pred_svm)"
   ]
  },
  {
   "cell_type": "markdown",
   "metadata": {},
   "source": [
    "- The third model is MLP Classifier and it takes about ~4 minutes to run and the accuracy is about 60.46%  "
   ]
  },
  {
   "cell_type": "code",
   "execution_count": null,
   "metadata": {},
   "outputs": [],
   "source": [
    "# use neural network to train the model\n",
    "from sklearn.neural_network import MLPClassifier\n",
    "nn = MLPClassifier()\n",
    "nn.fit(X_train_tfidf, y_train)\n",
    "\n",
    "# predict the personality type of the test data\n",
    "y_pred_nn = nn.predict(X_test_tfidf)    \n",
    "\n",
    "# check the accuracy of the model\n",
    "accuracy_score(y_test, y_pred_nn) "
   ]
  },
  {
   "cell_type": "code",
   "execution_count": null,
   "metadata": {},
   "outputs": [],
   "source": [
    "# use pickle to save the model and this is not working for now\n",
    "import pickle\n",
    "pickle.dump(nb, open('nb_1.sav', 'wb'))\n",
    "pickle.dump(nn, open('nn_2.sav', 'wb'))\n",
    "\n",
    "# load the model\n",
    "nb_1 = pickle.load(open('nb_1.sav', 'rb'))\n",
    "nn_2 = pickle.load(open('nn_2.sav', 'rb'))\n",
    "\n",
    "nb_1\n"
   ]
  },
  {
   "cell_type": "code",
   "execution_count": null,
   "metadata": {},
   "outputs": [],
   "source": [
    "# store the results in a dataframe\n",
    "results = pd.DataFrame({'Actual': y_test, 'Predicted': y_pred_nb})\n",
    "results"
   ]
  },
  {
   "cell_type": "code",
   "execution_count": null,
   "metadata": {},
   "outputs": [],
   "source": [
    "# pip install tensorflow"
   ]
  },
  {
   "cell_type": "code",
   "execution_count": null,
   "metadata": {},
   "outputs": [],
   "source": [
    "#pip install torch\n",
    "\n",
    "# use pytoch to train the model\n",
    "import torch\n",
    "import torch.nn as nn\n",
    "import torch.nn.functional as F\n",
    "import torch.optim as optim\n",
    "from torch.utils.data import Dataset, DataLoader"
   ]
  },
  {
   "cell_type": "code",
   "execution_count": null,
   "metadata": {},
   "outputs": [],
   "source": [
    "# # create a class for the dataset\n",
    "# class MBTIDataset(Dataset):\n",
    "#     def __init__(self, X, y):\n",
    "#         self.X = X\n",
    "#         self.y = y\n",
    "#         self.tfidf = TfidfVectorizer()\n",
    "#         self.X = tensor(self.tfidf.fit_transform(self.X))\n",
    "#         self.y = tensor(self.y.values)\n",
    "\n",
    "#     def __len__(self):\n",
    "#         return self.X.shape[0]\n",
    "\n",
    "#     def __getitem__(self, idx):\n",
    "#         return self.X[idx], self.y[idx]\n",
    "\n",
    "# # create a class for the neural network\n",
    "# class MBTINet(nn.Module):\n",
    "#     def __init__(self):\n",
    "#         super(MBTINet, self).__init__()\n",
    "#         self.fc1 = nn.Linear(20000, 1000)\n",
    "#         self.fc2 = nn.Linear(1000, 16)\n",
    "\n",
    "#     def forward(self, x):\n",
    "#         x = F.relu(self.fc1(x))\n",
    "#         x = self.fc2(x)\n",
    "#         return x\n",
    "\n",
    "# # create a function to train the model\n",
    "# def train(model, train_loader, optimizer, criterion, epochs):\n",
    "#     model.train()\n",
    "#     for epoch in range(epochs):\n",
    "#         for batch_idx, (data, target) in enumerate(train_loader):\n",
    "#             optimizer.zero_grad()\n",
    "#             output = model(data)\n",
    "#             loss = criterion(output, target)\n",
    "#             loss.backward()\n",
    "#             optimizer.step()\n",
    "\n",
    "# # create a function to test the model\n",
    "# def test(model, test_loader, criterion):\n",
    "#     model.eval()\n",
    "#     test_loss = 0\n",
    "#     correct = 0\n",
    "#     with torch.no_grad():\n",
    "#         for data, target in test_loader:\n",
    "#             output = model(data)\n",
    "#             test_loss += criterion(output, target).item()\n",
    "#             pred = output.argmax(dim=1, keepdim=True)\n",
    "#             correct += pred.eq(target.view_as(pred)).sum().item()\n",
    "\n",
    "#     test_loss /= len(test_loader.dataset)\n",
    "    \n",
    "#     print('Test set: Average loss: {:.4f}, Accuracy: {}/{} ({:.0f}%)'.format(test_loss, correct, len(test_loader.dataset), 100. * correct / len(test_loader.dataset)))\n",
    "\n",
    "# # create a function to predict the personality type of a person based on the text of their posts\n",
    "# def predict(model, test_loader):\n",
    "#     model.eval()\n",
    "#     with torch.no_grad():\n",
    "#         for data, target in test_loader:\n",
    "#             output = model(data)\n",
    "#             pred = output.argmax(dim=1, keepdim=True)\n",
    "#             return pred\n",
    "\n",
    "# # create a dataset for the training data\n",
    "# train_dataset = MBTIDataset(X_train, y_train)\n",
    "\n",
    "# # create a dataset for the testing data\n",
    "# test_dataset = MBTIDataset(X_test, y_test)\n",
    "\n",
    "\n",
    "# train_loader = DataLoader(train_dataset, batch_size=64, shuffle=True)\n",
    "# test_loader = DataLoader(test_dataset, batch_size=64, shuffle=True)\n",
    "# model = MBTINet()\n",
    "# criterion = nn.CrossEntropyLoss()\n",
    "# optimizer = optim.Adam(model.parameters(), lr=0.001)\n",
    "# train(model, train_loader, optimizer, criterion, 10)\n",
    "# test(model, test_loader, criterion)\n",
    "# predict(model, test_loader)\n"
   ]
  },
  {
   "cell_type": "markdown",
   "metadata": {},
   "source": [
    "## Results"
   ]
  },
  {
   "cell_type": "code",
   "execution_count": null,
   "metadata": {},
   "outputs": [],
   "source": []
  },
  {
   "cell_type": "markdown",
   "metadata": {},
   "source": [
    "## Conclusion"
   ]
  },
  {
   "cell_type": "code",
   "execution_count": null,
   "metadata": {},
   "outputs": [],
   "source": []
  },
  {
   "cell_type": "markdown",
   "metadata": {},
   "source": [
    "## Reference"
   ]
  },
  {
   "cell_type": "markdown",
   "metadata": {},
   "source": [
    "# put link into a markdown cell\n",
    "[1] https://www.myersbriggs.org/my-mbti-personality-type/mbti-basics/original-research.htm\n",
    "\n",
    "[2] https://www.16personalities.com/free-personality-test"
   ]
  }
 ],
 "metadata": {
  "kernelspec": {
   "display_name": "Python 3.10.6 ('base')",
   "language": "python",
   "name": "python3"
  },
  "language_info": {
   "codemirror_mode": {
    "name": "ipython",
    "version": 3
   },
   "file_extension": ".py",
   "mimetype": "text/x-python",
   "name": "python",
   "nbconvert_exporter": "python",
   "pygments_lexer": "ipython3",
   "version": "3.10.6"
  },
  "orig_nbformat": 4,
  "vscode": {
   "interpreter": {
    "hash": "3d597f4c481aa0f25dceb95d2a0067e73c0966dcbd003d741d821a7208527ecf"
   }
  }
 },
 "nbformat": 4,
 "nbformat_minor": 2
}
